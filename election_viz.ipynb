{
 "cells": [
  {
   "cell_type": "markdown",
   "metadata": {},
   "source": [
    "# APC vs PDP (Head To Head Exploratory Visualization)"
   ]
  },
  {
   "cell_type": "markdown",
   "metadata": {},
   "source": [
    "## Introduction"
   ]
  },
  {
   "cell_type": "markdown",
   "metadata": {},
   "source": [
    "### Project Motivation\n",
    "For  14 years the Peoples's Democratic Party  dominated the Nigerian  political space. It won every presidential election between 1999 and 2011 and was, until the 2015 election. Then the  All Progressives Congress (APC) Founded on 6 February 2013 from a merger of Nigeria's three largest opposition parties, came to power following the victory of party candidate Muhammadu Buhari in the 2015 presidential election. This marked the first time in Nigerian history that an opposition party unseated a governing party and power was transferred peacefully. link to a supporting article [here](https://en.wikipedia.org/wiki/2015_Nigerian_general_election#:~:text=Opposition%20candidate%20Muhammadu%20Buhari%20won,36%20states%20had%20been%20announced.).\n",
    "From that time on it has been a two men race and a battle of margins for both parties in all elections."
   ]
  },
  {
   "cell_type": "markdown",
   "metadata": {},
   "source": []
  }
 ],
 "metadata": {
  "language_info": {
   "name": "python"
  },
  "orig_nbformat": 4
 },
 "nbformat": 4,
 "nbformat_minor": 2
}
